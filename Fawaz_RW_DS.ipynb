{
 "cells": [
  {
   "cell_type": "code",
   "execution_count": 36,
   "id": "2633c1b9",
   "metadata": {},
   "outputs": [
    {
     "name": "stdout",
     "output_type": "stream",
     "text": [
      "Number of Rows: 399\n",
      "Number of Columns: 24\n"
     ]
    }
   ],
   "source": [
    "import pandas as pd\n",
    "import warnings\n",
    "import matplotlib.pyplot as plt\n",
    "warnings.filterwarnings(\"ignore\")\n",
    "df=pd.read_csv(r\"C:\\Fz\\RW\\randomwalk-ds-assessment\\books.csv\")\n",
    "\n",
    "\n",
    "num_rows = len(df.index)\n",
    "num_cols = len(df.columns)\n",
    "\n",
    "print('Number of Rows: ' + str(num_rows))\n",
    "print('Number of Columns: ' + str(num_cols))"
   ]
  },
  {
   "cell_type": "code",
   "execution_count": 37,
   "id": "c17986a1",
   "metadata": {},
   "outputs": [
    {
     "data": {
      "text/plain": [
       "36"
      ]
     },
     "execution_count": 37,
     "metadata": {},
     "output_type": "execute_result"
    }
   ],
   "source": [
    "sum(df['original_title'].isnull())"
   ]
  },
  {
   "cell_type": "code",
   "execution_count": 38,
   "id": "333b137c",
   "metadata": {},
   "outputs": [
    {
     "name": "stdout",
     "output_type": "stream",
     "text": [
      "Number of unique books: 363\n"
     ]
    }
   ],
   "source": [
    "temp = df[df['original_title'].notna()]\n",
    "\n",
    "num_unique_books = temp['book_id'].nunique()\n",
    "\n",
    "print('Number of unique books: ' + str(num_unique_books))"
   ]
  },
  {
   "cell_type": "code",
   "execution_count": 39,
   "id": "9c7197bd",
   "metadata": {},
   "outputs": [
    {
     "data": {
      "text/plain": [
       "3.9837844611528817"
      ]
     },
     "execution_count": 39,
     "metadata": {},
     "output_type": "execute_result"
    }
   ],
   "source": [
    "df['average_rating'].mean()"
   ]
  },
  {
   "cell_type": "code",
   "execution_count": 40,
   "id": "55e1c38b",
   "metadata": {},
   "outputs": [
    {
     "data": {
      "text/plain": [
       "8"
      ]
     },
     "execution_count": 40,
     "metadata": {},
     "output_type": "execute_result"
    }
   ],
   "source": [
    "df['original_publication_year'].value_counts()[2000]"
   ]
  },
  {
   "cell_type": "code",
   "execution_count": 41,
   "id": "41b4b2fd",
   "metadata": {},
   "outputs": [
    {
     "data": {
      "text/plain": [
       "'The Diary of a Young Girl'"
      ]
     },
     "execution_count": 41,
     "metadata": {},
     "output_type": "execute_result"
    }
   ],
   "source": [
    "ratings = df['work_ratings_count'].to_list()\n",
    "ind = ratings.index(max(ratings))\n",
    "df['title'][ind]"
   ]
  },
  {
   "cell_type": "code",
   "execution_count": 42,
   "id": "fcd3c4cd",
   "metadata": {},
   "outputs": [],
   "source": [
    "def bucket_values(value):\n",
    "    floor_value = int(value)\n",
    "    remainder = value - floor_value \n",
    "\n",
    "    if remainder < 0.25:  \n",
    "        return floor_value\n",
    "    elif remainder < 0.75:  \n",
    "        return floor_value + 0.5\n",
    "    else:  \n",
    "        return floor_value + 1\n",
    "\n",
    "for i in range(len(df['average_rating'])):\n",
    "  df['average_rating'][i] = bucket_values(df['average_rating'][i])\n"
   ]
  },
  {
   "cell_type": "code",
   "execution_count": 43,
   "id": "f00872a1",
   "metadata": {},
   "outputs": [
    {
     "data": {
      "text/plain": [
       "0      4.0\n",
       "1      3.5\n",
       "2      4.0\n",
       "3      4.0\n",
       "4      4.5\n",
       "      ... \n",
       "394    4.5\n",
       "395    4.0\n",
       "396    3.5\n",
       "397    4.0\n",
       "398    4.0\n",
       "Name: average_rating, Length: 399, dtype: float64"
      ]
     },
     "execution_count": 43,
     "metadata": {},
     "output_type": "execute_result"
    }
   ],
   "source": [
    "df['average_rating']"
   ]
  },
  {
   "cell_type": "code",
   "execution_count": 44,
   "id": "230a710d",
   "metadata": {},
   "outputs": [
    {
     "data": {
      "image/png": "[encoded data removed]",
      "text/plain": [
       "<Figure size 800x600 with 1 Axes>"
      ]
     },
     "metadata": {},
     "output_type": "display_data"
    }
   ],
   "source": [
    "rating_counts = df['average_rating'].value_counts().sort_index()\n",
    "\n",
    "rates = [0, 0.5, 1, 1.5, 2, 2.5, 3, 3.5, 4, 4.5, 5]\n",
    "\n",
    "plt.figure(figsize=(8, 6))\n",
    "rating_counts.plot(kind='bar')\n",
    "plt.title('Number of Books for Each Rating')\n",
    "plt.xlabel('Rating')\n",
    "plt.ylabel('Number of Books')\n",
    "plt.show()"
   ]
  },
  {
   "cell_type": "code",
   "execution_count": null,
   "id": "dd347baf",
   "metadata": {},
   "outputs": [],
   "source": []
  }
 ],
 "metadata": {
  "kernelspec": {
   "display_name": "Python 3 (ipykernel)",
   "language": "python",
   "name": "python3"
  },
  "language_info": {
   "codemirror_mode": {
    "name": "ipython",
    "version": 3
   },
   "file_extension": ".py",
   "mimetype": "text/x-python",
   "name": "python",
   "nbconvert_exporter": "python",
   "pygments_lexer": "ipython3",
   "version": "3.11.5"
  }
 },
 "nbformat": 4,
 "nbformat_minor": 5
}
